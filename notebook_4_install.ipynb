{
 "cells": [
  {
   "cell_type": "markdown",
   "metadata": {},
   "source": [
    "# Compile, Distribute, and Install"
   ]
  },
  {
   "cell_type": "markdown",
   "metadata": {},
   "source": [
    "## Documentation\n",
    "\n",
    "Furthermore, a file with documentation which uses simple HTML syntax must be provided. This documentation is then distributed with the addon and it is also automatically available online (GRASS addons docs). A template with the main sections follows.\n"
   ]
  },
  {
   "cell_type": "code",
   "execution_count": null,
   "metadata": {},
   "outputs": [],
   "source": [
    "%%writefile vector_to_raster.html\n",
    "<h2>DESCRIPTION</h2>\n",
    "\n",
    "A long description with details about the method, implementation, usage or whatever is appropriate.\n",
    "\n",
    "<h2>EXAMPLES</h2>\n",
    "\n",
    "Examples of how the module can be used alone or in combination with other modules.\n",
    "Possibly using the GRASS North Carolina State Plane Metric sample Location.\n",
    "At least one screenshot (PNG format) of the result should provided to show the user what to expect.\n",
    "\n",
    "<h2>REFERENCES</h2>\n",
    "\n",
    "Reference or references to paper related to the module or references which algorithm the module is based on.\n",
    "\n",
    "<h2>SEE ALSO</h2>\n",
    "\n",
    "List of related or similar GRASS GIS modules or modules used together with this module as well as any related websites, or\n",
    "related pages at the GRASS GIS User wiki.\n",
    "\n",
    "<h2>AUTHORS</h2>\n",
    "\n",
    "List of author(s), their organizations and funding sources."
   ]
  },
  {
   "cell_type": "markdown",
   "metadata": {},
   "source": [
    "## Formal requirements\n",
    "\n",
    "All GRASS GIS modules must be distributed under GNU GPL license (version 2 or later). There is a specified way how the first comment in module's main file should look like. Here is how it can look like for our module:\n",
    "\n",
    "\"\"\"\n",
    "MODULE:    r.viewshed.points\n",
    "\n",
    "AUTHOR(S): John Smith <email at some domain>\n",
    "\n",
    "PURPOSE:   Computes viewshed for multiple points\n",
    "\n",
    "COPYRIGHT: (C) 2015 John Smith\n",
    "\n",
    "           This program is free software under the GNU General Public\n",
    "           License (>=v2). Read the file COPYING that comes with GRASS\n",
    "           for details.\n",
    "\"\"\"\n",
    "\n"
   ]
  },
  {
   "cell_type": "markdown",
   "metadata": {},
   "source": [
    "## Compilation\n",
    "\n",
    "Although Python is not a compiled language like C, we need to 'compile' also the Python based GRASS GIS module in order to include it in our GRASS installation, and to create HTML documentation and GUI. For this a Makefile needs to be written which follows a standard template as well. The included 'Script.make' takes care of processing everything, given that the Python script, the HTML documentation and optional screenshot(s) in PNG format are present in the same directory."
   ]
  },
  {
   "cell_type": "code",
   "execution_count": null,
   "metadata": {},
   "outputs": [],
   "source": [
    "%%writefile Makefile\n",
    "MODULE_TOPDIR = ../..\n",
    "\n",
    "PGM = vector_to_raster\n",
    "\n",
    "include $(MODULE_TOPDIR)/include/Make/Script.make\n",
    "\n",
    "default: script"
   ]
  },
  {
   "cell_type": "markdown",
   "metadata": {},
   "source": [
    "On Linux and macOS:"
   ]
  },
  {
   "cell_type": "code",
   "execution_count": null,
   "metadata": {},
   "outputs": [],
   "source": [
    "!grass --tmp-location XY --exec g.extension vector_to_raster url=."
   ]
  },
  {
   "cell_type": "code",
   "execution_count": null,
   "metadata": {},
   "outputs": [],
   "source": [
    "!grass --tmp-location XY --exec which vector_to_raster"
   ]
  },
  {
   "cell_type": "markdown",
   "metadata": {},
   "source": [
    "## Submitting the new module to the GRASS GIS addons repository"
   ]
  },
  {
   "cell_type": "markdown",
   "metadata": {},
   "source": [
    "## Testing your code\n",
    "\n"
   ]
  },
  {
   "cell_type": "markdown",
   "metadata": {},
   "source": [
    "## Creating a GUI toolbox\n",
    "\n"
   ]
  },
  {
   "cell_type": "code",
   "execution_count": null,
   "metadata": {},
   "outputs": [],
   "source": []
  }
 ],
 "metadata": {
  "kernelspec": {
   "display_name": "Python 3",
   "language": "python",
   "name": "python3"
  },
  "language_info": {
   "codemirror_mode": {
    "name": "ipython",
    "version": 3
   },
   "file_extension": ".py",
   "mimetype": "text/x-python",
   "name": "python",
   "nbconvert_exporter": "python",
   "pygments_lexer": "ipython3",
   "version": "3.8.10"
  }
 },
 "nbformat": 4,
 "nbformat_minor": 4
}
