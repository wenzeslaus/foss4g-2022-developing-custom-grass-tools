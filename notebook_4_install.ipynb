{
 "cells": [
  {
   "cell_type": "markdown",
   "metadata": {},
   "source": [
    "# Document, Compile, and Distribute\n",
    "\n",
    "There is few more steps to make the tool better for users and easy to distribute. Some of these steps are required for inclusion into the grass-addons repository.\n",
    "\n",
    "## Addons Repository\n",
    "\n",
    "- Community-maintained tools (addons aka extensions aka plugins)\n",
    "- Separate from the main repository, but only one repository\n",
    "- A repository with the source code, not just a registry\n",
    "- Best of both worlds:\n",
    "  * Broader community of contributors (including one-time contributors)\n",
    "  * Single repository maintained by the core community similarly to the main repository"
   ]
  },
  {
   "cell_type": "markdown",
   "metadata": {},
   "source": [
    "## Name\n",
    "\n",
    "Tool name should follow the existing conventions for naming GRASS tools.\n",
    "\n",
    "Generally, the idea is to include only one or two dots. All core tools comply with this rule, but some addons break it.\n",
    "\n",
    "To keep the notebook simple, we will keep the non-compliant name from the previous notebook. This will work fine for compilation here, but may not make full use of some tools such as the GUI which use the naming scheme to recognize GRASS tools in some contexts."
   ]
  },
  {
   "cell_type": "markdown",
   "metadata": {},
   "source": [
    "## Documentation\n",
    "\n",
    "A file with documentation which uses simple HTML syntax must be provided. This documentation is then distributed with the addon and it is also automatically available online ([GRASS GIS Addons Manual pages](https://grass.osgeo.org/grass82/manuals/addons/)). A template with the main sections follows (the syntax highlighting does not work in notebook in JupyterLab, only in a separate editor tab)."
   ]
  },
  {
   "cell_type": "code",
   "execution_count": null,
   "metadata": {},
   "outputs": [],
   "source": [
    "%%writefile vector_to_raster.html\n",
    "<h2>DESCRIPTION</h2>\n",
    "\n",
    "A long description with details about the method, implementation, usage or whatever is appropriate.\n",
    "\n",
    "<h2>NOTES</h2>\n",
    "\n",
    "Random notes, tricks, and quirks which don't fit above.\n",
    "\n",
    "<h2>EXAMPLES</h2>\n",
    "\n",
    "Examples of how the module can be used alone or in combination with other modules.\n",
    "Possibly using the GRASS North Carolina State Plane Metric sample Location.\n",
    "At least one screenshot (PNG format) of the result should provided to show the user what to expect.\n",
    "\n",
    "<h2>REFERENCES</h2>\n",
    "\n",
    "Reference or references to paper related to the module or references which algorithm the module is based on.\n",
    "\n",
    "<h2>SEE ALSO</h2>\n",
    "\n",
    "List of related or similar GRASS GIS modules or modules used together with this module as well as any related websites, or\n",
    "related pages at the GRASS GIS User wiki.\n",
    "\n",
    "<h2>AUTHORS</h2>\n",
    "\n",
    "List of author(s), their organizations and funding sources."
   ]
  },
  {
   "cell_type": "markdown",
   "metadata": {},
   "source": [
    "## Formal requirements\n",
    "\n",
    "Tools included in the grass-addons repository, must be under the GNU GPL license, version 2 or later (SPDX: GPL-2.0-or-later). There is a specified way how the first comment in module's main file should look like. Here is a template for the first lines of a file:\n",
    "\n",
    "```python\n",
    "#!/usr/bin/env python\n",
    "\n",
    "##############################################################################\n",
    "# MODULE:    vector_to_raster\n",
    "#\n",
    "# AUTHORS:   Alice Doe <email AT some domain>\n",
    "#            Bob Doe <email AT some domain>\n",
    "#\n",
    "# PURPOSE:   Describe your script here from maintainer perspective\n",
    "#\n",
    "# COPYRIGHT: (C) 2022 Alice Doe and the GRASS Development Team\n",
    "#\n",
    "#            This program is free software under the GNU General Public\n",
    "#            License (>=v2). Read the file COPYING that comes with GRASS\n",
    "#            for details.\n",
    "##############################################################################\n",
    "\n",
    "\"\"\"Describe your script here from Python user perspective\"\"\"\n",
    "```"
   ]
  },
  {
   "cell_type": "markdown",
   "metadata": {},
   "source": [
    "## Compilation\n",
    "\n",
    "Although Python is not a compiled language like C, we need to compile also the Python tools in order to include them into our GRASS installation and to create HTML documentation. For this a `Makefile` needs to be written which follows a standard template as well. The included `Script.make` takes care of processing everything, given that the Python script, the HTML documentation and an optional screenshot(s) in PNG format are present in the same directory. Installed tools will show up in the GUI."
   ]
  },
  {
   "cell_type": "code",
   "execution_count": null,
   "metadata": {},
   "outputs": [],
   "source": [
    "%%writefile Makefile\n",
    "MODULE_TOPDIR = ../..\n",
    "\n",
    "PGM = vector_to_raster\n",
    "\n",
    "include $(MODULE_TOPDIR)/include/Make/Script.make\n",
    "\n",
    "default: script"
   ]
  },
  {
   "cell_type": "markdown",
   "metadata": {},
   "source": [
    "To compile, either a low level `make` command can be used, but it is easier to make use of installation mechanism of _g.extension_ which compiles and installs on Linux and macOS (and all unix-like systems).\n",
    "\n",
    "On Linux and macOS:"
   ]
  },
  {
   "cell_type": "code",
   "execution_count": null,
   "metadata": {},
   "outputs": [],
   "source": [
    "!grass --tmp-location XY --exec g.extension vector_to_raster url=."
   ]
  },
  {
   "cell_type": "code",
   "execution_count": null,
   "metadata": {},
   "outputs": [],
   "source": [
    "!grass --tmp-location XY --exec which vector_to_raster"
   ]
  },
  {
   "cell_type": "markdown",
   "metadata": {},
   "source": [
    "The best way to get the tools to Windows users is to include them in the grass-addons repository. (Experimentally, it is also possible to setup a private institution-specific repository like the grass-addons repository.)\n",
    "\n",
    "Code can be hosted on GitHub or other platform. _g.extension_ supports installation from many sources, but it needs the compilation tools which are not available on Windows, so this works only for Linux and macOS."
   ]
  },
  {
   "cell_type": "markdown",
   "metadata": {},
   "source": [
    "## Submitting to the GRASS GIS Addons Repository\n",
    "\n",
    "Create a pull request to the [grass-addons repository](https://github.com/OSGeo/grass-addons/) (instructions are there). Wait for someone to review it or convince someone to do that. When issues from the review are addressed, the reviewer will merge it.\n",
    "\n",
    "Finally, check the [Submitting Guidelines](https://trac.osgeo.org/grass/wiki/Submitting) (both for updating your files and updating the guidelines themselves).\n",
    "\n",
    "PR reviews are time consuming, so make it easier for the reviewer by checking the best practices yourself. And yes, you can become a reviewer and get access to the grass-addons repository too. That's actually much simpler than getting write access to the main repository."
   ]
  },
  {
   "cell_type": "markdown",
   "metadata": {},
   "source": [
    "## Testing your code\n",
    "\n",
    "One way to speed up the review process is to include tests of your tool. This not only demonstrates that the tool works, but it makes it also easier to maintain the code in the future.\n",
    "\n",
    "### grass.gunittest tests\n",
    "\n",
    "- Based on highly customized extension of the standard Python _unittest_ package.\n",
    "- Code runs in an existing GRASS session.\n",
    "- Can assume the sample NC SPM location is the current location.\n",
    "- Many specialized functions for GRASS GIS, especially specialized asserts.\n",
    "\n",
    "The readily available test real-world data and assert functions specialized for GRASS GIS, make _grass.gunittest_ a great tool for tests of data processing tools.\n",
    "\n",
    "### pytest tests\n",
    "\n",
    "- Use _pytest_ as is.\n",
    "- There are no specialized functions for GRASS GIS yet.\n",
    "- Fixtures and comparisons need to be written using basic functions.\n",
    "- No GRASS session or data.\n",
    "\n",
    "The lack of any setup may work well for tests of tools which are not doing standard processing. Increasing number of project and people migrate to _pytest_, so you may simply prefer that."
   ]
  },
  {
   "cell_type": "markdown",
   "metadata": {},
   "source": [
    "## Grouping Related Modules\n",
    "\n",
    "### Naming\n",
    "\n",
    "Just use names which start with the same prefix or contain the same words, but keep thinks separate.\n",
    "\n",
    "### Common Directory\n",
    "\n",
    "One directory with multiple tools works well even for mix of Python and C tools.\n",
    "\n",
    "However, a step further, including common libraries to this structure, is more complicated and the functionality is not as stable as it should be.\n",
    "\n",
    "### Experimental Toolboxes\n",
    "\n",
    "#### Addon Toolbox\n",
    "\n",
    "Multiple tools can be listed together in an XML file and _g.extension_ can show and install this toolbox.\n",
    "\n",
    "#### GUI Toolbox\n",
    "\n",
    "Multiple tools can be listed together in an XML file which is stored in user configuration directory. The GUI adds these toolboxes to the tree in the _Tools_ tab."
   ]
  }
 ],
 "metadata": {
  "kernelspec": {
   "display_name": "Python 3",
   "language": "python",
   "name": "python3"
  },
  "language_info": {
   "codemirror_mode": {
    "name": "ipython",
    "version": 3
   },
   "file_extension": ".py",
   "mimetype": "text/x-python",
   "name": "python",
   "nbconvert_exporter": "python",
   "pygments_lexer": "ipython3",
   "version": "3.8.10"
  }
 },
 "nbformat": 4,
 "nbformat_minor": 4
}
