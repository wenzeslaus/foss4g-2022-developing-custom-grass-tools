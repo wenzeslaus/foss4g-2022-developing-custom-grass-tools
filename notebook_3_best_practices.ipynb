{
 "cells": [
  {
   "cell_type": "markdown",
   "metadata": {},
   "source": [
    "## Parameters\n",
    "\n",
    "As mentioned before, a GRASS GIS module must use the GRASS parser to handle its command line parameters. A\n",
    "\n",
    "standard options\n"
   ]
  },
  {
   "cell_type": "markdown",
   "metadata": {},
   "source": [
    "## Handling data\n",
    "\n",
    "A module reads and/or writes geospatial data as GRASS raster or vector maps. A module should not overwrite existing data unless specified by the user using the --overwrite flag. For raster and vector maps and other files, the GRASS parser automatically checks their existence and ends the module execution with a proper error message in case the output already exists.\n",
    "\n",
    "\n",
    "imports versus existing\n",
    "\n",
    "\n",
    "separation of concerns"
   ]
  },
  {
   "cell_type": "markdown",
   "metadata": {},
   "source": [
    "## Mapsets\n",
    "\n",
    "...but also parallel"
   ]
  },
  {
   "cell_type": "markdown",
   "metadata": {},
   "source": [
    "## Computational region\n",
    "\n",
    "Temporary region\n",
    "\n",
    "GRASS_REGION"
   ]
  },
  {
   "cell_type": "markdown",
   "metadata": {},
   "source": [
    "## Mask"
   ]
  },
  {
   "cell_type": "markdown",
   "metadata": {},
   "source": [
    "## Vectors\n",
    "\n",
    "A tool with GRASS interface which takes vector map as an input should have at least input and layer parameters:\n",
    "\n",
    "```python\n",
    "# %option G_OPT_V_INPUT\n",
    "# %end\n",
    "# %option G_OPT_V_FIELD\n",
    "# %end\n",
    "```\n",
    "\n",
    "A layer number selects a subset of a vector map in GRASS GIS which is specified by its name. Most cases are covered by the default which is `1`, but multiple layers can be present in one vector map which allows for creation of complex data structures. The layer can also have an associated database link which links an attribute table. Where only geometry is used and attributes are not present or ignored, `-1` is used to denote all layers.\n",
    "\n",
    "Additionally, the presence of layer, covers cases where OGR-readable data in matching CRS are used directly:\n",
    "\n",
    "```bash\n",
    "grass8 ~/grassdata/nc_basic_spm_grass7/foss4g --exec v.to.rast input=\"~/data/project_shapefiles@OGR\" layer=all_sites output=sites use=val\n",
    "```\n",
    "\n",
    "When there is more than one input, ...\n",
    "\n",
    "Sometimes, layer is needed for output, but usually it is not.\n",
    "\n",
    "Additionally, if it is possible, e.g., the underlying tools support it, the input vector should ideally also have:\n",
    "- type specifying geometry types\n",
    "- cats specifying category numbers (identifiers) of features to select\n",
    "- where specifying SQL WHERE clause expression"
   ]
  },
  {
   "cell_type": "markdown",
   "metadata": {},
   "source": [
    "## Temporary maps"
   ]
  },
  {
   "cell_type": "code",
   "execution_count": null,
   "metadata": {},
   "outputs": [],
   "source": [
    "%%writefile vector_to_raster.py\n",
    "#!/usr/bin/env python\n",
    "\n",
    "# %module\n",
    "# % description: Converts vector data to raster data\n",
    "# %end\n",
    "# %option G_OPT_V_INPUT\n",
    "# %end\n",
    "# %option G_OPT_V_FIELD\n",
    "# %end\n",
    "# %option G_OPT_R_OUTPUT\n",
    "# %end\n",
    "# %option\n",
    "# % key: buffer\n",
    "# % type: double\n",
    "# % required: yes\n",
    "# % description: Buffer around vector features\n",
    "# %end\n",
    "\n",
    "import subprocess\n",
    "import sys\n",
    "\n",
    "import grass.script as gs\n",
    "import grass.script.setup\n",
    "\n",
    "def main():\n",
    "    options, flags = gs.parser()\n",
    "    vector_input = options[\"input\"]\n",
    "    vector_layer = options[\"layer\"]\n",
    "    raster_output = options[\"output\"]\n",
    "    buffer = options[\"buffer\"]\n",
    "\n",
    "    gs.run_command(\"v.buffer\", input=vector_input, layer=vector_layer, output=\"temporary\", use=\"val\")\n",
    "    gs.run_command(\"v.to.rast\", input=vector_input, layer=vector_layer, output=raster_output, use=\"val\")\n",
    "\n",
    "if __name__ == \"__main__\":\n",
    "    main()"
   ]
  },
  {
   "cell_type": "markdown",
   "metadata": {},
   "source": [
    "## Overwrite"
   ]
  },
  {
   "cell_type": "markdown",
   "metadata": {},
   "source": [
    "## History"
   ]
  },
  {
   "cell_type": "markdown",
   "metadata": {},
   "source": [
    "## Memory and cores"
   ]
  }
 ],
 "metadata": {
  "kernelspec": {
   "display_name": "Python 3",
   "language": "python",
   "name": "python3"
  },
  "language_info": {
   "codemirror_mode": {
    "name": "ipython",
    "version": 3
   },
   "file_extension": ".py",
   "mimetype": "text/x-python",
   "name": "python",
   "nbconvert_exporter": "python",
   "pygments_lexer": "ipython3",
   "version": "3.8.10"
  }
 },
 "nbformat": 4,
 "nbformat_minor": 4
}
